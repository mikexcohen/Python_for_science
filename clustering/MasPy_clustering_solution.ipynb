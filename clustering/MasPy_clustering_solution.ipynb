{
  "nbformat": 4,
  "nbformat_minor": 0,
  "metadata": {
    "colab": {
      "name": "MasPy_clustering_solution.ipynb",
      "provenance": [],
      "collapsed_sections": []
    },
    "kernelspec": {
      "name": "python3",
      "display_name": "Python 3"
    }
  },
  "cells": [
    {
      "cell_type": "markdown",
      "metadata": {
        "id": "_HnN__2-xUiA"
      },
      "source": [
        "# COURSE: Master Python for scientific programming by solving projects\n",
        "## PROJECT: Clustering\n",
        "#### TEACHER: Mike X Cohen, sincxpress.com\n",
        "##### COURSE URL: udemy.com/course/maspy_x/?couponCode=202201"
      ]
    },
    {
      "cell_type": "markdown",
      "metadata": {
        "id": "tAe_UnC4sNDi"
      },
      "source": [
        "# Import and normalize the cloud data"
      ]
    },
    {
      "cell_type": "code",
      "metadata": {
        "id": "ztjs98sbxcYx"
      },
      "source": [
        "# import all necessary modules\n",
        "import numpy as np\n",
        "import matplotlib.pyplot as plt\n",
        "\n",
        "from sklearn.decomposition import PCA\n",
        "from sklearn.manifold import TSNE\n",
        "from sklearn.cluster import KMeans\n",
        "import time"
      ],
      "execution_count": null,
      "outputs": []
    },
    {
      "cell_type": "code",
      "metadata": {
        "id": "wkVGzfqmzLtt"
      },
      "source": [
        "! wget https://archive.ics.uci.edu/ml/machine-learning-databases/undocumented/taylor/cloud.data"
      ],
      "execution_count": null,
      "outputs": []
    },
    {
      "cell_type": "code",
      "metadata": {
        "id": "qxxDpbeWz2VC"
      },
      "source": [
        "cloud = []\n",
        "\n",
        "with open('cloud.data') as fid:\n",
        "  for aline in fid:\n",
        "    aline = aline.strip().split()\n",
        "    try:\n",
        "      l = list(map(float,aline))\n",
        "      if l:\n",
        "        cloud.append(l)\n",
        "    except: None\n",
        "\n",
        "# convert to numpy array\n",
        "cloud = np.array([np.array(i) for i in cloud])\n",
        "cloud.shape"
      ],
      "execution_count": null,
      "outputs": []
    },
    {
      "cell_type": "code",
      "metadata": {
        "id": "NEJb1H4Mavqn"
      },
      "source": [
        "# z-normalize\n",
        "\n",
        "cloudz = np.zeros(cloud.shape)\n",
        "\n",
        "for coli in range(cloud.shape[1]):\n",
        "  mean = np.mean(cloud[:,coli])\n",
        "  std  = np.std(cloud[:,coli])\n",
        "  cloudz[:,coli] = (cloud[:,coli]-mean)/std\n",
        "\n",
        "\n",
        "fig,ax = plt.subplots(1,2,figsize=(16,8))\n",
        "ax[0].plot(cloud)\n",
        "ax[0].set_xlabel('Sample number')\n",
        "ax[0].set_ylabel('Original units')\n",
        "ax[0].set_title('Raw data')\n",
        "\n",
        "ax[1].plot(cloudz)\n",
        "ax[1].set_xlabel('Sample number')\n",
        "ax[1].set_ylabel('Z score')\n",
        "ax[1].set_title('Feature-normalized data')\n",
        "plt.show()\n"
      ],
      "execution_count": null,
      "outputs": []
    },
    {
      "cell_type": "markdown",
      "metadata": {
        "id": "2YDYpYQg1Rjg"
      },
      "source": [
        "# Compute and inspect covariance matrices"
      ]
    },
    {
      "cell_type": "code",
      "metadata": {
        "id": "Jys00ZI71WUw"
      },
      "source": [
        "# mean-center and compute covariances (use broadcasting!)\n",
        "cloud_demean = cloud - cloud.mean(axis=0)\n",
        "\n",
        "plt.plot(cloud_demean)\n",
        "plt.show()"
      ],
      "execution_count": null,
      "outputs": []
    },
    {
      "cell_type": "code",
      "metadata": {
        "id": "Tw_X0lU35vPd"
      },
      "source": [
        "# covariances for features\n",
        "\n",
        "# NOTE: There is a bug in the video: you should divide by the number of samples observations, which is the first dimension.\n",
        "#       In the video I divided by cloud_demean.shape[1], but the number of multiply/sum operations corresponds to the number\n",
        "#       of observations. Fortunately, this is simply a normalization scalar doesn't affect the clustering or PCA.\n",
        "\n",
        "cov_features  = cloud_demean.T@cloud_demean / cloud_demean.shape[0]\n",
        "cov_featuresZ = cloudz.T@cloudz / cloud.shape[0]\n",
        "\n",
        "# covariances for observations\n",
        "cov_observations  = cloud_demean@cloud_demean.T   / cloud.shape[1]\n",
        "cov_observationsZ = cloudz@cloudz.T / cloud.shape[1]\n"
      ],
      "execution_count": null,
      "outputs": []
    },
    {
      "cell_type": "code",
      "metadata": {
        "id": "gavlsRhb5dhF"
      },
      "source": [
        "# show everything in plots\n",
        "\n",
        "fig,ax = plt.subplots(2,2,figsize=(9,9))\n",
        "fig.tight_layout()\n",
        "\n",
        "# show the covariance matrix\n",
        "ax[0,0].imshow(cov_features,vmin=-5000,vmax=5000)\n",
        "ax[0,0].set_xlabel('Feature')\n",
        "ax[0,0].set_ylabel('Feature')\n",
        "ax[0,0].set_xticks([])\n",
        "ax[0,0].set_yticks([])\n",
        "ax[0,0].set_title('Raw features')\n",
        "\n",
        "ax[0,1].imshow(cov_featuresZ,vmin=-1,vmax=1)\n",
        "ax[0,1].set_xlabel('Feature')\n",
        "ax[0,1].set_ylabel('Feature')\n",
        "ax[0,1].set_xticks([])\n",
        "ax[0,1].set_yticks([])\n",
        "ax[0,1].set_title('Norm. features')\n",
        "\n",
        "\n",
        "ax[1,0].imshow(cov_observations,\n",
        "               vmin=-np.max(abs(cov_observations))*.1,vmax=np.max(abs(cov_observations))*.1)\n",
        "ax[1,0].set_xlabel('Observations')\n",
        "ax[1,0].set_ylabel('Observations')\n",
        "ax[1,0].set_xticks([])\n",
        "ax[1,0].set_yticks([])\n",
        "ax[1,0].set_title('Raw observations')\n",
        "\n",
        "ax[1,1].imshow(cov_observationsZ,\n",
        "               vmin=-np.max(abs(cov_observationsZ))*.1,vmax=np.max(abs(cov_observationsZ))*.1)\n",
        "ax[1,1].set_xlabel('Observations')\n",
        "ax[1,1].set_ylabel('Observations')\n",
        "ax[1,1].set_xticks([])\n",
        "ax[1,1].set_yticks([])\n",
        "ax[1,1].set_title('Norm. observations')\n",
        "\n",
        "plt.show()"
      ],
      "execution_count": null,
      "outputs": []
    },
    {
      "cell_type": "code",
      "metadata": {
        "id": "CwAjWJv81WjH"
      },
      "source": [
        ""
      ],
      "execution_count": null,
      "outputs": []
    },
    {
      "cell_type": "markdown",
      "metadata": {
        "id": "Ume1cH9603e3"
      },
      "source": [
        "# Determine the number of components using PCA"
      ]
    },
    {
      "cell_type": "code",
      "metadata": {
        "id": "I-CqrejheYL9"
      },
      "source": [
        "# run PCA\n",
        "pca = PCA().fit(cloudz)\n",
        "\n",
        "# setup a figure\n",
        "fig,ax = plt.subplots(1,2,figsize=(10,5))\n",
        "\n",
        "# show the covariance matrix\n",
        "ax[0].imshow(pca.get_covariance(),vmin=-1,vmax=1)\n",
        "ax[0].set_xlabel('Feature')\n",
        "ax[0].set_ylabel('Feature')\n",
        "ax[0].set_title('Data covariance matrix')\n",
        "\n",
        "# show the scree plot\n",
        "ax[1].plot(100*pca.explained_variance_ratio_,'ks-',markersize=12,markerfacecolor='w')\n",
        "ax[1].set_xlabel('Component number')\n",
        "ax[1].set_ylabel('Percent variance')\n",
        "ax[1].set_title('Scree plot')\n",
        "plt.show()\n"
      ],
      "execution_count": null,
      "outputs": []
    },
    {
      "cell_type": "code",
      "metadata": {
        "id": "9fxlSokvgA7C"
      },
      "source": [
        "# apply transformation to get into PC space\n",
        "cloud2D = pca.transform(cloudz)\n",
        "\n",
        "# plot\n",
        "plt.plot(cloud2D[:,0],cloud2D[:,1],'o')\n",
        "plt.xlabel('PC 1')\n",
        "plt.ylabel('PC 2')\n",
        "plt.title('Data in PC space')\n",
        "plt.show()"
      ],
      "execution_count": null,
      "outputs": []
    },
    {
      "cell_type": "markdown",
      "metadata": {
        "id": "N90UML68eYRF"
      },
      "source": [
        "# Cluster the data using t-SNE and k-means"
      ]
    },
    {
      "cell_type": "code",
      "metadata": {
        "id": "oh3f1ivBhDnP"
      },
      "source": [
        "# run tSNE and plot\n",
        "t = TSNE().fit_transform(cloudz)\n",
        "\n",
        "# run k-means\n",
        "clusters = KMeans(n_clusters=2).fit(t)\n",
        "\n",
        "# plot the two clusters in different colors\n",
        "plt.plot(t[clusters.labels_==0,0],t[clusters.labels_==0,1],'bo',markerfacecolor='w')\n",
        "plt.plot(t[clusters.labels_==1,0],t[clusters.labels_==1,1],'ro',markerfacecolor='w')\n",
        "plt.show()"
      ],
      "execution_count": null,
      "outputs": []
    },
    {
      "cell_type": "code",
      "metadata": {
        "id": "eCRYx-blhDq4"
      },
      "source": [
        "# re-run as a function of perplexity\n",
        "perps = [10,50,100,200]\n",
        "\n",
        "fig,ax = plt.subplots(1,4,figsize=(16,4))\n",
        "\n",
        "for i in range(4):\n",
        "  \n",
        "  # start the clock\n",
        "  # NOTE: time.clock will be depreciated. If the line below works, then it's fine. \n",
        "  # If it gives an error, then use time.process_time() instead (also in the rest of the code)\n",
        "  starttime = time.clock()\n",
        "  \n",
        "  # run TSNE (try it with and without z-scoring)\n",
        "  t = TSNE(perplexity=perps[i]).fit_transform(cloudz) \n",
        "  \n",
        "  # extract clusters using k-means\n",
        "  clusters = KMeans(n_clusters=2).fit(t)\n",
        "  \n",
        "  # plot the two clusters in different colors\n",
        "  ax[i].plot(t[clusters.labels_==0,0],t[clusters.labels_==0,1],'bo',markerfacecolor='w')\n",
        "  ax[i].plot(t[clusters.labels_==1,0],t[clusters.labels_==1,1],'ro',markerfacecolor='w')\n",
        "  ax[i].set_title('Perplexity=%s, took %.2f s'%(perps[i],time.clock()-starttime))\n"
      ],
      "execution_count": null,
      "outputs": []
    },
    {
      "cell_type": "code",
      "metadata": {
        "id": "yQKSMF2UhDt_"
      },
      "source": [
        "print(f'Perpexity={perps[2]}, took {time.clock()-starttime:.2f} seconds.')"
      ],
      "execution_count": null,
      "outputs": []
    },
    {
      "cell_type": "markdown",
      "metadata": {
        "id": "37goe7D___7c"
      },
      "source": [
        "# Bonus: Make a 2D likelihood density plot"
      ]
    },
    {
      "cell_type": "code",
      "metadata": {
        "id": "q0GAKYKk-iJd"
      },
      "source": [
        "# re-run decomposition\n",
        "t = TSNE(perplexity=10).fit_transform(cloudz)\n",
        "\n",
        "# setup image (try again with limits=50)\n",
        "trange = np.arange(-100,100)\n",
        "timage = np.zeros((len(trange),len(trange)))\n",
        "\n",
        "# population the image according to the data points\n",
        "for i in range(len(t)):\n",
        "  xi = np.argmin((t[i,0]-trange)**2)\n",
        "  yi = np.argmin((t[i,1]-trange)**2)\n",
        "  timage[yi,xi] += 1\n",
        "\n",
        "# display and make it look nice\n",
        "plt.imshow(timage,vmin=0,vmax=1,origin='lower',\n",
        "           extent=[trange[0],trange[-1],trange[0],trange[-1]])\n",
        "plt.xlabel('t-SNE dimension 1')\n",
        "plt.ylabel('t-SNE dimension 2')\n",
        "\n",
        "# plt.plot(t[:,0],t[:,1],'w.',markersize=3) # confirmation...\n",
        "plt.show()"
      ],
      "execution_count": null,
      "outputs": []
    },
    {
      "cell_type": "code",
      "metadata": {
        "id": "MpWpM_Yz-umj"
      },
      "source": [
        "# smooth the image using the scipy.ndimage module\n",
        "from scipy.ndimage import gaussian_filter\n",
        "\n",
        "# run a Gaussian filter\n",
        "timage_smooth = gaussian_filter(timage,sigma=(3,3))\n",
        "\n",
        "# show the plot\n",
        "plt.imshow(timage_smooth,vmin=0,vmax=.3,origin='lower',\n",
        "           extent=[trange[0],trange[-1],trange[0],trange[-1]])\n",
        "plt.xlabel('t-SNE dimension 1')\n",
        "plt.ylabel('t-SNE dimension 2')\n",
        "plt.show()"
      ],
      "execution_count": null,
      "outputs": []
    },
    {
      "cell_type": "code",
      "metadata": {
        "id": "p2hw0_sWeYaN"
      },
      "source": [
        ""
      ],
      "execution_count": null,
      "outputs": []
    }
  ]
}