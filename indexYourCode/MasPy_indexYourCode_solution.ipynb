{
 "cells": [
  {
   "cell_type": "markdown",
   "metadata": {
    "colab_type": "text",
    "id": "bhWV8oes-wKR"
   },
   "source": [
    "# COURSE: Master Python for scientific programming by solving projects\n",
    "## PROJECT: Index your Python code\n",
    "#### TEACHER: Mike X Cohen, sincxpress.com\n",
    "##### COURSE URL: udemy.com/course/maspy_x/?couponCode=202201"
   ]
  },
  {
   "cell_type": "code",
   "execution_count": null,
   "metadata": {
    "colab": {},
    "colab_type": "code",
    "id": "JL_0UKJOj1YP"
   },
   "outputs": [],
   "source": [
    "# import all necessary modules\n",
    "import glob\n",
    "import re"
   ]
  },
  {
   "cell_type": "markdown",
   "metadata": {
    "colab_type": "text",
    "id": "dqmU7gnmbu8L"
   },
   "source": [
    "# Import multiple ipynb files"
   ]
  },
  {
   "cell_type": "code",
   "execution_count": null,
   "metadata": {
    "colab": {},
    "colab_type": "code",
    "id": "82RcRrWTcNa8"
   },
   "outputs": [],
   "source": [
    "# manually upload files to the colab drive\n",
    "\n",
    "# list of all files\n",
    "pyfiles = glob.glob('*ipynb')\n",
    "print(pyfiles)"
   ]
  },
  {
   "cell_type": "code",
   "execution_count": null,
   "metadata": {
    "colab": {},
    "colab_type": "code",
    "id": "yl9WcPCUc_Pr"
   },
   "outputs": [],
   "source": [
    "# import each file as a list\n",
    "\n",
    "allfiles = []\n",
    "\n",
    "for fil in pyfiles:\n",
    "  fid = open(fil,'r')\n",
    "  content = fid.read()\n",
    "  allfiles.append( content )\n"
   ]
  },
  {
   "cell_type": "code",
   "execution_count": null,
   "metadata": {
    "colab": {},
    "colab_type": "code",
    "id": "R0dDciBabNyc"
   },
   "outputs": [],
   "source": [
    "# another equally good solution\n",
    "\n",
    "allfiles = []\n",
    "\n",
    "for fil in pyfiles:\n",
    "  with open(fil,'r') as f:\n",
    "    allfiles.append( f.read() )"
   ]
  },
  {
   "cell_type": "code",
   "execution_count": null,
   "metadata": {
    "colab": {},
    "colab_type": "code",
    "id": "krtF5MudSxaz"
   },
   "outputs": [],
   "source": [
    "allfiles[0]"
   ]
  },
  {
   "cell_type": "markdown",
   "metadata": {
    "colab_type": "text",
    "id": "7oy3wMBqYxqw"
   },
   "source": [
    "# Identify function calls"
   ]
  },
  {
   "cell_type": "code",
   "execution_count": null,
   "metadata": {
    "colab": {},
    "colab_type": "code",
    "id": "LefLVJpqT0y5"
   },
   "outputs": [],
   "source": [
    "# a brief aside on word boundaries with regex\n",
    "s = 'My name is Mike and I like to eat chocolate'\n",
    "\n",
    "# find words that end with 'e'\n",
    "re.findall(r'\\w*e\\b',s) #\\w for word, \\b for boundary\n",
    "\n",
    "# find words that start with 'M'\n",
    "re.findall(r'\\bM\\w*',s) \n"
   ]
  },
  {
   "cell_type": "code",
   "execution_count": null,
   "metadata": {
    "colab": {},
    "colab_type": "code",
    "id": "gj_IiHe0WfTq"
   },
   "outputs": [],
   "source": [
    "# find the word preceding the left-parenthesis\n",
    "t = '\"alist = list( range(5,11) )\\\\n\"'\n",
    "re.findall(r'\\w*\\( ?\\b',t) # word starts with anything, ends with ( and any number of spaces\n"
   ]
  },
  {
   "cell_type": "code",
   "execution_count": null,
   "metadata": {
    "colab": {},
    "colab_type": "code",
    "id": "0pGZgggkiHXs"
   },
   "outputs": [],
   "source": [
    "# now repeat in the actual data\n",
    "funwords = re.findall(r'\\w*\\( ?\\b',allfiles[1])\n",
    "\n",
    "# NOTE: in the video I forgot to include the possibility of a function call with no inputs, which looks like fun()\n",
    "#       Thus, the regex should be:\n",
    "funwords = re.findall(r'\\w*\\( ?|\\(\\b',allfiles[1])\n",
    "# The | means \"or\", so the above line is \"open parenthesis with any number of spaces, or just open parenthesis with no spaces\"\n",
    "\n",
    "# remove ( at the end of each word\n",
    "funwords = [ i.strip()[:-1] for i in funwords ]\n",
    "funwords = [ i for i in funwords if len(i)>0 ]\n",
    "funwords\n"
   ]
  },
  {
   "cell_type": "code",
   "execution_count": null,
   "metadata": {
    "colab": {},
    "colab_type": "code",
    "id": "FPAGMsLNZQjw"
   },
   "outputs": [],
   "source": [
    "allfuncalls = []\n",
    "fi = 0\n",
    "\n",
    "for thisfile in allfiles:\n",
    "  # find the function names\n",
    "  funwords = re.findall(r'\\w*\\( ?|\\(\\b',thisfile)\n",
    "  funwords = [ i.strip()[:-1] for i in funwords ]\n",
    "  funwords = [ i for i in funwords if len(i)>0 ]\n",
    "  \n",
    "  # append to a list\n",
    "  for f in funwords:\n",
    "    allfuncalls.append([f,pyfiles[fi][:-6]])\n",
    "  \n",
    "  # increment file counter\n",
    "  fi += 1\n",
    "\n",
    "allfuncalls"
   ]
  },
  {
   "cell_type": "code",
   "execution_count": null,
   "metadata": {
    "colab": {},
    "colab_type": "code",
    "id": "BzDZv0jiUcOY"
   },
   "outputs": [],
   "source": [
    "# slight alternative using enumerate\n",
    "\n",
    "allfuncalls = []\n",
    "\n",
    "for fi,thisfile in enumerate(allfiles):\n",
    "  # find the function names\n",
    "  funwords = re.findall(r'\\w*\\( ?|\\(\\b',thisfile)\n",
    "  funwords = [ i.strip()[:-1] for i in funwords ]\n",
    "  funwords = [ i for i in funwords if len(i)>0 ]\n",
    "  \n",
    "  # append to a list\n",
    "  for f in funwords:\n",
    "    allfuncalls.append([f,pyfiles[fi][:-6]])\n",
    "  \n",
    "  \n",
    "allfuncalls"
   ]
  },
  {
   "cell_type": "markdown",
   "metadata": {
    "colab_type": "text",
    "id": "Elh3KjquVgRv"
   },
   "source": [
    "# Create an alphabetized index\n"
   ]
  },
  {
   "cell_type": "code",
   "execution_count": null,
   "metadata": {
    "colab": {},
    "colab_type": "code",
    "id": "81ITnXcocGhr"
   },
   "outputs": [],
   "source": [
    "# list of all unique function names\n",
    "# (note: not part of the assignment, just a simpler example)\n",
    "\n",
    "uniquenames = []\n",
    "for i in allfuncalls:\n",
    "  if i[0] not in uniquenames:\n",
    "    uniquenames.append(i[0])\n",
    "  \n",
    "uniquenames"
   ]
  },
  {
   "cell_type": "code",
   "execution_count": null,
   "metadata": {
    "colab": {},
    "colab_type": "code",
    "id": "3iw6urTmdyrX"
   },
   "outputs": [],
   "source": [
    "# put function names and files into a dictionary\n",
    "\n",
    "indexdict = {}\n",
    "for i in allfuncalls:\n",
    "  \n",
    "  # create this key if it doesn't already exist\n",
    "  if i[0] not in indexdict:\n",
    "    indexdict[i[0]] = []\n",
    "  \n",
    "  # add the filename if it's not already in there\n",
    "  if i[1].lower() not in indexdict[i[0]]:\n",
    "    indexdict[i[0]].append(i[1].lower())\n",
    "\n",
    "indexdict.keys()"
   ]
  },
  {
   "cell_type": "code",
   "execution_count": null,
   "metadata": {
    "colab": {},
    "colab_type": "code",
    "id": "t7kYx5GtYyJD"
   },
   "outputs": [],
   "source": [
    "indexdict"
   ]
  },
  {
   "cell_type": "code",
   "execution_count": null,
   "metadata": {
    "colab": {},
    "colab_type": "code",
    "id": "5ntqrCq5fYrk"
   },
   "outputs": [],
   "source": [
    "# write the data to a text file\n",
    "\n",
    "fid = open('function_index.txt','w')\n",
    "\n",
    "for key in sorted(indexdict):\n",
    "  # function in the first cell\n",
    "  fid.write(f'{key};')\n",
    "\n",
    "  # files in the second cell\n",
    "  tmps = str(indexdict[key]).replace(\"'\",'').replace('[','').replace(']','')\n",
    "  fid.write(f'{tmps}')\n",
    "\n",
    "  # newline\n",
    "  fid.write('\\n')\n",
    "\n",
    "fid.close()"
   ]
  },
  {
   "cell_type": "code",
   "execution_count": null,
   "metadata": {
    "colab": {},
    "colab_type": "code",
    "id": "wmiKnY91fY2T"
   },
   "outputs": [],
   "source": [
    "# download it\n",
    "from google.colab import files\n",
    "files.download('function_index.txt')"
   ]
  },
  {
   "cell_type": "code",
   "execution_count": null,
   "metadata": {
    "colab": {},
    "colab_type": "code",
    "id": "lETTmrhifY5j"
   },
   "outputs": [],
   "source": []
  },
  {
   "cell_type": "markdown",
   "metadata": {
    "colab_type": "text",
    "id": "4cZpQLpEYyNT"
   },
   "source": [
    "# Create a file-function list"
   ]
  },
  {
   "cell_type": "code",
   "execution_count": null,
   "metadata": {
    "colab": {},
    "colab_type": "code",
    "id": "DMR0LntiYyVb"
   },
   "outputs": [],
   "source": [
    "# put function names and files into a dictionary\n",
    "\n",
    "indexdict = {}\n",
    "for i in allfuncalls:\n",
    "  \n",
    "  # create this key if it doesn't already exist\n",
    "  if i[1] not in indexdict:\n",
    "    indexdict[i[1]] = []\n",
    "  \n",
    "  # add the filename if it's not already in there\n",
    "  if i[0] not in indexdict[i[1]]:\n",
    "    indexdict[i[1]].append(i[0])\n",
    "\n",
    "indexdict.keys()"
   ]
  },
  {
   "cell_type": "code",
   "execution_count": null,
   "metadata": {
    "colab": {},
    "colab_type": "code",
    "id": "mn1H1i1CYyZK"
   },
   "outputs": [],
   "source": [
    "indexdict"
   ]
  },
  {
   "cell_type": "code",
   "execution_count": null,
   "metadata": {
    "colab": {},
    "colab_type": "code",
    "id": "6VyKDgbVi441"
   },
   "outputs": [],
   "source": [
    "# write the data to a text file\n",
    "\n",
    "fid = open('file_index.txt','w')\n",
    "\n",
    "for key in sorted(indexdict):\n",
    "  # file in the first cell\n",
    "  fid.write(f'{key.lower()};')\n",
    "\n",
    "  # functions in the second cell\n",
    "  tmps = str(indexdict[key]).replace(\"'\",'').replace('[','').replace(']','')\n",
    "\n",
    "  # sort the function names alphabetically\n",
    "  tmps = str(sorted(indexdict[key]))\n",
    "  tmps = tmps.replace(\"'\",'').replace('[','').replace(']','')\n",
    "  fid.write(f'{tmps}')\n",
    "\n",
    "  # newline\n",
    "  fid.write('\\n')\n",
    "\n",
    "fid.close()"
   ]
  },
  {
   "cell_type": "code",
   "execution_count": null,
   "metadata": {
    "colab": {},
    "colab_type": "code",
    "id": "sp58vS4Zi4_T"
   },
   "outputs": [],
   "source": []
  },
  {
   "cell_type": "markdown",
   "metadata": {
    "colab_type": "text",
    "id": "xgBroiZMjz5m"
   },
   "source": [
    "# Bonus: Which file has the most points?"
   ]
  },
  {
   "cell_type": "code",
   "execution_count": null,
   "metadata": {
    "colab": {},
    "colab_type": "code",
    "id": "SeISgz1fiGKb"
   },
   "outputs": [],
   "source": [
    "total = [0]*len(allfiles)\n",
    "ti = 0\n",
    "\n",
    "for fil in allfiles:\n",
    "  for s in fil:\n",
    "    total[ti] += ord(s)\n",
    "\n",
    "  # normalize to length\n",
    "  total[ti] = total[ti] / len(fil)\n",
    "  \n",
    "  # update file index counter\n",
    "  ti += 1\n",
    "\n",
    "total"
   ]
  },
  {
   "cell_type": "code",
   "execution_count": null,
   "metadata": {
    "colab": {},
    "colab_type": "code",
    "id": "zhfPTSo9JST6"
   },
   "outputs": [],
   "source": [
    "for i in range(len(allfiles)):\n",
    "  print(f'{pyfiles[i][:-6]} has {total[i]:.3f} points')"
   ]
  },
  {
   "cell_type": "code",
   "execution_count": null,
   "metadata": {
    "colab": {},
    "colab_type": "code",
    "id": "xUrxlQy5jELI"
   },
   "outputs": [],
   "source": [
    "import matplotlib.pyplot as plt\n",
    "plt.bar(range(len(total)),total)\n",
    "\n",
    "plt.ylabel('Unicode score',fontsize=20)\n",
    "xlabels = [ i[6:-6] for i in pyfiles ]\n",
    "plt.xticks(range(len(total)),labels=xlabels)\n",
    "plt.xlabel('Filenames',fontsize=20)\n",
    "plt.ylim([min(total)-1,max(total)+1])\n",
    "plt.show()"
   ]
  },
  {
   "cell_type": "code",
   "execution_count": null,
   "metadata": {
    "colab": {},
    "colab_type": "code",
    "id": "YwTBzVJsoKbg"
   },
   "outputs": [],
   "source": []
  }
 ],
 "metadata": {
  "colab": {
   "authorship_tag": "ABX9TyMbKk3fEigLLR80MLhgZV4J",
   "collapsed_sections": [],
   "name": "MasPy_indexYourCode_solution.ipynb",
   "provenance": [
    {
     "file_id": "1kGRo0g3UXxXpJuQSEtpKjEGA1Vxbaz8S",
     "timestamp": 1597128018290
    },
    {
     "file_id": "1U4oG0A3DFC-XBWhvecYeA3YYReqHpShX",
     "timestamp": 1594575042741
    }
   ]
  },
  "kernelspec": {
   "display_name": "Python 3 (ipykernel)",
   "language": "python",
   "name": "python3"
  },
  "language_info": {
   "codemirror_mode": {
    "name": "ipython",
    "version": 3
   },
   "file_extension": ".py",
   "mimetype": "text/x-python",
   "name": "python",
   "nbconvert_exporter": "python",
   "pygments_lexer": "ipython3",
   "version": "3.9.7"
  }
 },
 "nbformat": 4,
 "nbformat_minor": 1
}
